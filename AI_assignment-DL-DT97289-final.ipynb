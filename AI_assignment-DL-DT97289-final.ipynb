{
 "cells": [
  {
   "cell_type": "markdown",
   "metadata": {},
   "source": [
    "  # Name:Saad,Mohammad\n",
    "\n",
    "  # Student no :300267006                                                  \n",
    " \n",
    " #  Assignment (1)\n",
    "\n",
    "  # ELG7186-AI for CS"
   ]
  },
  {
   "cell_type": "code",
   "execution_count": 1,
   "metadata": {},
   "outputs": [],
   "source": [
    "import numpy as np \n",
    "import pandas as pd\n",
    "import csv\n",
    "from sklearn.preprocessing import OneHotEncoder,LabelEncoder,MinMaxScaler\n",
    "from sklearn.tree import DecisionTreeClassifier\n",
    "from sklearn.metrics import precision_score, recall_score, f1_score, confusion_matrix,classification_report,ConfusionMatrixDisplay\n",
    "from tensorflow import keras\n",
    "import tensorflow as tf\n",
    "from tensorflow.keras import layers\n",
    "from keras.regularizers import l1,l2\n",
    "tf.random.set_seed(seed=1500)\n",
    "np.random.seed(seed=150)\n"
   ]
  },
  {
   "cell_type": "markdown",
   "metadata": {},
   "source": [
    "Reading training data CSV file and removing some columns<br>\n",
    "The columns were elinmated based on manual visual inspection to the CSV file and some trials and errors<br>"
   ]
  },
  {
   "cell_type": "code",
   "execution_count": 2,
   "metadata": {},
   "outputs": [],
   "source": [
    "df=pd.read_csv(\"traindata.csv\")\n",
    "\n",
    "y=df['Class']\n",
    "y=np.array(y)\n",
    "df_train=df.drop(['ID','land','land','count','dst_host_count','dst_host_srv_count','dst_host_rerror_rate','duration','srv_diff_host_rate','dst_host_srv_rerror_rate','wrong_fragment','urgent','root_shell','su_attempted','num_shells','num_outbound_cmds','is_host_login','Class'], axis=1)\n",
    "\n",
    "\n",
    "df_test=pd.read_csv(\"testdata.csv\")\n",
    "IDs=df_test['ID']\n",
    "df_test=df_test.drop(['ID','land','land','wrong_fragment','count','dst_host_count','duration','dst_host_srv_count','dst_host_srv_rerror_rate','dst_host_rerror_rate','srv_diff_host_rate','urgent','root_shell','su_attempted','num_shells','num_outbound_cmds','is_host_login'], axis=1)\n"
   ]
  },
  {
   "cell_type": "markdown",
   "metadata": {},
   "source": [
    "The cloumns with nominal data was encoded using label encoding:"
   ]
  },
  {
   "cell_type": "code",
   "execution_count": 3,
   "metadata": {},
   "outputs": [],
   "source": [
    "le = LabelEncoder()\n",
    "df_train['protocol_type'] = le.fit_transform(df_train['protocol_type'])\n",
    "df_train['service'] = le.fit_transform(df_train['service'])\n",
    "df_train['flag'] = le.fit_transform(df_train['flag'])\n",
    "\n",
    "df_test['protocol_type'] = le.fit_transform(df_test['protocol_type'])\n",
    "df_test['service'] = le.fit_transform(df_test['service'])\n",
    "df_test['flag'] = le.fit_transform(df_test['flag'])\n"
   ]
  },
  {
   "cell_type": "markdown",
   "metadata": {},
   "source": [
    "The proposed solution is based on combining the results from a decision tree model with a deep learning model."
   ]
  },
  {
   "cell_type": "markdown",
   "metadata": {},
   "source": [
    "### Decision Tree \n",
    "The parameter that have increased the score for the decision tree is max_leaf_nodes equals to 7 "
   ]
  },
  {
   "cell_type": "code",
   "execution_count": 4,
   "metadata": {},
   "outputs": [],
   "source": [
    "\n",
    "clf = DecisionTreeClassifier(random_state=0,max_leaf_nodes=7).fit(df_train,y)#96\n"
   ]
  },
  {
   "cell_type": "markdown",
   "metadata": {},
   "source": [
    "### Deep learning \n",
    " "
   ]
  },
  {
   "cell_type": "code",
   "execution_count": 5,
   "metadata": {},
   "outputs": [
    {
     "name": "stdout",
     "output_type": "stream",
     "text": [
      "Epoch 1/75\n",
      "90/90 [==============================] - 1s 3ms/step - loss: 0.1649 - binary_accuracy: 0.9542\n",
      "Epoch 2/75\n",
      "90/90 [==============================] - 0s 2ms/step - loss: 0.0591 - binary_accuracy: 0.9883\n",
      "Epoch 3/75\n",
      "90/90 [==============================] - 0s 2ms/step - loss: 0.0404 - binary_accuracy: 0.9903\n",
      "Epoch 4/75\n",
      "90/90 [==============================] - 0s 3ms/step - loss: 0.0304 - binary_accuracy: 0.9932\n",
      "Epoch 5/75\n",
      "90/90 [==============================] - 0s 2ms/step - loss: 0.0245 - binary_accuracy: 0.9932\n",
      "Epoch 6/75\n",
      "90/90 [==============================] - 0s 3ms/step - loss: 0.0223 - binary_accuracy: 0.9935\n",
      "Epoch 7/75\n",
      "90/90 [==============================] - 0s 3ms/step - loss: 0.0213 - binary_accuracy: 0.9939\n",
      "Epoch 8/75\n",
      "90/90 [==============================] - 0s 2ms/step - loss: 0.0180 - binary_accuracy: 0.9951\n",
      "Epoch 9/75\n",
      "90/90 [==============================] - 0s 2ms/step - loss: 0.0168 - binary_accuracy: 0.9958\n",
      "Epoch 10/75\n",
      "90/90 [==============================] - 0s 2ms/step - loss: 0.0186 - binary_accuracy: 0.9944\n",
      "Epoch 11/75\n",
      "90/90 [==============================] - 0s 2ms/step - loss: 0.0145 - binary_accuracy: 0.9953\n",
      "Epoch 12/75\n",
      "90/90 [==============================] - 0s 3ms/step - loss: 0.0139 - binary_accuracy: 0.9960\n",
      "Epoch 13/75\n",
      "90/90 [==============================] - 0s 3ms/step - loss: 0.0136 - binary_accuracy: 0.9959\n",
      "Epoch 14/75\n",
      "90/90 [==============================] - 0s 3ms/step - loss: 0.0135 - binary_accuracy: 0.9953\n",
      "Epoch 15/75\n",
      "90/90 [==============================] - 0s 3ms/step - loss: 0.0127 - binary_accuracy: 0.9957\n",
      "Epoch 16/75\n",
      "90/90 [==============================] - 0s 2ms/step - loss: 0.0120 - binary_accuracy: 0.9961\n",
      "Epoch 17/75\n",
      "90/90 [==============================] - 0s 3ms/step - loss: 0.0116 - binary_accuracy: 0.9963\n",
      "Epoch 18/75\n",
      "90/90 [==============================] - 0s 3ms/step - loss: 0.0116 - binary_accuracy: 0.9961\n",
      "Epoch 19/75\n",
      "90/90 [==============================] - 0s 2ms/step - loss: 0.0118 - binary_accuracy: 0.9962\n",
      "Epoch 20/75\n",
      "90/90 [==============================] - 0s 2ms/step - loss: 0.0120 - binary_accuracy: 0.9960\n",
      "Epoch 21/75\n",
      "90/90 [==============================] - 0s 2ms/step - loss: 0.0108 - binary_accuracy: 0.9966\n",
      "Epoch 22/75\n",
      "90/90 [==============================] - 0s 3ms/step - loss: 0.0095 - binary_accuracy: 0.9963\n",
      "Epoch 23/75\n",
      "90/90 [==============================] - 0s 3ms/step - loss: 0.0101 - binary_accuracy: 0.9965\n",
      "Epoch 24/75\n",
      "90/90 [==============================] - 0s 2ms/step - loss: 0.0121 - binary_accuracy: 0.9957\n",
      "Epoch 25/75\n",
      "90/90 [==============================] - 0s 3ms/step - loss: 0.0093 - binary_accuracy: 0.9967\n",
      "Epoch 26/75\n",
      "90/90 [==============================] - 0s 2ms/step - loss: 0.0095 - binary_accuracy: 0.9971\n",
      "Epoch 27/75\n",
      "90/90 [==============================] - 0s 2ms/step - loss: 0.0091 - binary_accuracy: 0.9967\n",
      "Epoch 28/75\n",
      "90/90 [==============================] - 0s 3ms/step - loss: 0.0093 - binary_accuracy: 0.9969\n",
      "Epoch 29/75\n",
      "90/90 [==============================] - 0s 3ms/step - loss: 0.0089 - binary_accuracy: 0.9972\n",
      "Epoch 30/75\n",
      "90/90 [==============================] - 0s 3ms/step - loss: 0.0102 - binary_accuracy: 0.9964\n",
      "Epoch 31/75\n",
      "90/90 [==============================] - 0s 3ms/step - loss: 0.0089 - binary_accuracy: 0.9967\n",
      "Epoch 32/75\n",
      "90/90 [==============================] - 0s 3ms/step - loss: 0.0082 - binary_accuracy: 0.9968\n",
      "Epoch 33/75\n",
      "90/90 [==============================] - 0s 3ms/step - loss: 0.0089 - binary_accuracy: 0.9970\n",
      "Epoch 34/75\n",
      "90/90 [==============================] - 0s 3ms/step - loss: 0.0093 - binary_accuracy: 0.9965\n",
      "Epoch 35/75\n",
      "90/90 [==============================] - 0s 2ms/step - loss: 0.0086 - binary_accuracy: 0.9970\n",
      "Epoch 36/75\n",
      "90/90 [==============================] - 0s 2ms/step - loss: 0.0088 - binary_accuracy: 0.9969\n",
      "Epoch 37/75\n",
      "90/90 [==============================] - 0s 3ms/step - loss: 0.0084 - binary_accuracy: 0.9968\n",
      "Epoch 38/75\n",
      "90/90 [==============================] - 0s 2ms/step - loss: 0.0074 - binary_accuracy: 0.9972\n",
      "Epoch 39/75\n",
      "90/90 [==============================] - 0s 3ms/step - loss: 0.0080 - binary_accuracy: 0.9970\n",
      "Epoch 40/75\n",
      "90/90 [==============================] - 0s 2ms/step - loss: 0.0082 - binary_accuracy: 0.9970\n",
      "Epoch 41/75\n",
      "90/90 [==============================] - 0s 3ms/step - loss: 0.0070 - binary_accuracy: 0.9975\n",
      "Epoch 42/75\n",
      "90/90 [==============================] - 0s 3ms/step - loss: 0.0071 - binary_accuracy: 0.9975\n",
      "Epoch 43/75\n",
      "90/90 [==============================] - 0s 3ms/step - loss: 0.0090 - binary_accuracy: 0.9967\n",
      "Epoch 44/75\n",
      "90/90 [==============================] - 0s 2ms/step - loss: 0.0072 - binary_accuracy: 0.9974\n",
      "Epoch 45/75\n",
      "90/90 [==============================] - 0s 2ms/step - loss: 0.0075 - binary_accuracy: 0.9973\n",
      "Epoch 46/75\n",
      "90/90 [==============================] - 0s 3ms/step - loss: 0.0075 - binary_accuracy: 0.9975\n",
      "Epoch 47/75\n",
      "90/90 [==============================] - 0s 2ms/step - loss: 0.0075 - binary_accuracy: 0.9978\n",
      "Epoch 48/75\n",
      "90/90 [==============================] - 0s 2ms/step - loss: 0.0075 - binary_accuracy: 0.9972\n",
      "Epoch 49/75\n",
      "90/90 [==============================] - 0s 3ms/step - loss: 0.0070 - binary_accuracy: 0.9972\n",
      "Epoch 50/75\n",
      "90/90 [==============================] - 0s 2ms/step - loss: 0.0068 - binary_accuracy: 0.9974\n",
      "Epoch 51/75\n",
      "90/90 [==============================] - 0s 2ms/step - loss: 0.0096 - binary_accuracy: 0.9969\n",
      "Epoch 52/75\n",
      "90/90 [==============================] - 0s 2ms/step - loss: 0.0077 - binary_accuracy: 0.9973\n",
      "Epoch 53/75\n",
      "90/90 [==============================] - 0s 3ms/step - loss: 0.0074 - binary_accuracy: 0.9973\n",
      "Epoch 54/75\n",
      "90/90 [==============================] - 0s 2ms/step - loss: 0.0075 - binary_accuracy: 0.9970\n",
      "Epoch 55/75\n",
      "90/90 [==============================] - 0s 2ms/step - loss: 0.0068 - binary_accuracy: 0.9976\n",
      "Epoch 56/75\n",
      "90/90 [==============================] - 0s 3ms/step - loss: 0.0079 - binary_accuracy: 0.9970\n",
      "Epoch 57/75\n",
      "90/90 [==============================] - 0s 3ms/step - loss: 0.0068 - binary_accuracy: 0.9975\n",
      "Epoch 58/75\n",
      "90/90 [==============================] - 0s 2ms/step - loss: 0.0074 - binary_accuracy: 0.9972\n",
      "Epoch 59/75\n",
      "90/90 [==============================] - 0s 2ms/step - loss: 0.0079 - binary_accuracy: 0.9972\n",
      "Epoch 60/75\n",
      "90/90 [==============================] - 0s 2ms/step - loss: 0.0077 - binary_accuracy: 0.9973\n",
      "Epoch 61/75\n",
      "90/90 [==============================] - 0s 2ms/step - loss: 0.0080 - binary_accuracy: 0.9970\n",
      "Epoch 62/75\n",
      "90/90 [==============================] - 0s 2ms/step - loss: 0.0081 - binary_accuracy: 0.9968\n",
      "Epoch 63/75\n",
      "90/90 [==============================] - 0s 2ms/step - loss: 0.0067 - binary_accuracy: 0.9975\n",
      "Epoch 64/75\n",
      "90/90 [==============================] - 0s 2ms/step - loss: 0.0057 - binary_accuracy: 0.9976\n",
      "Epoch 65/75\n",
      "90/90 [==============================] - 0s 2ms/step - loss: 0.0080 - binary_accuracy: 0.9972\n",
      "Epoch 66/75\n",
      "90/90 [==============================] - 0s 2ms/step - loss: 0.0060 - binary_accuracy: 0.9976\n",
      "Epoch 67/75\n",
      "90/90 [==============================] - 0s 2ms/step - loss: 0.0061 - binary_accuracy: 0.9976\n",
      "Epoch 68/75\n",
      "90/90 [==============================] - 0s 3ms/step - loss: 0.0061 - binary_accuracy: 0.9977\n",
      "Epoch 69/75\n",
      "90/90 [==============================] - 0s 2ms/step - loss: 0.0064 - binary_accuracy: 0.9977\n",
      "Epoch 70/75\n",
      "90/90 [==============================] - 0s 2ms/step - loss: 0.0061 - binary_accuracy: 0.9975\n",
      "Epoch 71/75\n",
      "90/90 [==============================] - 0s 2ms/step - loss: 0.0064 - binary_accuracy: 0.9979\n",
      "Epoch 72/75\n",
      "90/90 [==============================] - 0s 2ms/step - loss: 0.0061 - binary_accuracy: 0.9980\n",
      "Epoch 73/75\n",
      "90/90 [==============================] - 0s 3ms/step - loss: 0.0065 - binary_accuracy: 0.9976\n",
      "Epoch 74/75\n",
      "90/90 [==============================] - 0s 2ms/step - loss: 0.0075 - binary_accuracy: 0.9973\n",
      "Epoch 75/75\n",
      "90/90 [==============================] - 0s 2ms/step - loss: 0.0071 - binary_accuracy: 0.9976\n"
     ]
    }
   ],
   "source": [
    "\n",
    "model = keras.models.Sequential([layers.BatchNormalization(input_shape=[27]),\n",
    "layers.Dense(64, activation=\"relu\"),\n",
    "layers.BatchNormalization(),                                                                   \n",
    "layers.Dense(32, activation=\"relu\"),\n",
    "layers.BatchNormalization(),\n",
    "layers.Dense(16, activation=\"relu\"),\n",
    "layers.BatchNormalization(), \n",
    "layers.Dense(16, activation=\"relu\"),\n",
    "layers.BatchNormalization(),                                 \n",
    "layers.Dense(8, activation=\"relu\"),\n",
    "layers.BatchNormalization(),                                  \n",
    "layers.Dense(1, activation=\"sigmoid\")])\n",
    "optimizer = keras.optimizers.Adam(epsilon=0.0000001)\n",
    "model.compile(loss=\"binary_crossentropy\",optimizer=optimizer,metrics=[\"binary_accuracy\"])\n",
    "history = model.fit(df_train,y,batch_size=256, epochs=75)\n"
   ]
  },
  {
   "cell_type": "markdown",
   "metadata": {},
   "source": [
    "The optimum threshhold found is to be more or equal to 0.001"
   ]
  },
  {
   "cell_type": "code",
   "execution_count": 6,
   "metadata": {},
   "outputs": [
    {
     "name": "stdout",
     "output_type": "stream",
     "text": [
      "[1 1 0 ... 1 0 0]\n",
      "[[5.8951575e-01]\n",
      " [9.9993980e-01]\n",
      " [1.7549949e-07]\n",
      " ...\n",
      " [9.9993807e-01]\n",
      " [8.2937695e-05]\n",
      " [7.2253570e-05]]\n",
      "[[1]\n",
      " [1]\n",
      " [0]\n",
      " ...\n",
      " [1]\n",
      " [0]\n",
      " [0]]\n"
     ]
    }
   ],
   "source": [
    "y_prdict2=clf.predict(df_test)#Decision tree\n",
    "print(y_prdict2)\n",
    "y_prdict=model.predict(df_test)#DL\n",
    "print(y_prdict)\n",
    "y_prdict1=(model.predict(df_test) >= 0.001).astype(\"int\")#DL\n",
    "print(y_prdict1)\n"
   ]
  },
  {
   "cell_type": "markdown",
   "metadata": {},
   "source": [
    "### Model combination\n",
    "The 2-models were combined by appling a code that performs on the predictions like an OR gate to give the final results "
   ]
  },
  {
   "cell_type": "code",
   "execution_count": 7,
   "metadata": {},
   "outputs": [
    {
     "name": "stdout",
     "output_type": "stream",
     "text": [
      "[1 1 0 ... 1 0 0]\n"
     ]
    }
   ],
   "source": [
    "t=y_prdict1.reshape(y_prdict1.shape[0])+y_prdict2\n",
    "k=[]\n",
    "for i in range(t.shape[0]):\n",
    "    if t[i]==2:#if both said attack\n",
    "        k.append(1)\n",
    "    elif t[i]==1:#if one of them said attack\n",
    "        k.append(1)\n",
    "    else:\n",
    "        k.append(0)\n",
    "\n",
    "\n",
    "k=np.array(k)\n",
    "print(k)\n"
   ]
  },
  {
   "cell_type": "markdown",
   "metadata": {},
   "source": [
    "Writing the preditions to a CSV file to be submitted"
   ]
  },
  {
   "cell_type": "code",
   "execution_count": 8,
   "metadata": {},
   "outputs": [],
   "source": [
    "header = ['ID','Class']\n",
    "with open('Mohammad Saad.csv', 'w', encoding='UTF8', newline='') as f:\n",
    "    # create the csv writer\n",
    "    writer = csv.writer(f)\n",
    "\n",
    "    # write a row to the csv file\n",
    "    writer.writerow(header)\n",
    "    \n",
    "    for w in range(len(IDs)):\n",
    "        writer.writerow([IDs[w], k[w]])\n",
    "        "
   ]
  }
 ],
 "metadata": {
  "kernelspec": {
   "display_name": "Python 3",
   "language": "python",
   "name": "python3"
  },
  "language_info": {
   "codemirror_mode": {
    "name": "ipython",
    "version": 3
   },
   "file_extension": ".py",
   "mimetype": "text/x-python",
   "name": "python",
   "nbconvert_exporter": "python",
   "pygments_lexer": "ipython3",
   "version": "3.8.5"
  }
 },
 "nbformat": 4,
 "nbformat_minor": 5
}
